{
 "cells": [
  {
   "cell_type": "code",
   "execution_count": 3,
   "metadata": {},
   "outputs": [],
   "source": [
    "from sklearn import datasets\n",
    "from sklearn import model_selection\n",
    "\n",
    "x_data,y_data=datasets.load_iris(return_X_y=True)\n",
    "x_train, x_test, y_train, y_test = model_selection.train_test_split(x_data,y_data,stratify=y_data,train_size=0.8)"
   ]
  },
  {
   "cell_type": "code",
   "execution_count": 23,
   "metadata": {},
   "outputs": [
    {
     "name": "stdout",
     "output_type": "stream",
     "text": [
      "28 93.33333333333333\n"
     ]
    }
   ],
   "source": [
    "import numpy as np\n",
    "\n",
    "def knn_predict(x_input, k=3):\n",
    "  x_input=np.array(x_input)\n",
    "  neighbours=[] # (distance, flower class)\n",
    "\n",
    "  for i in range(0, len(x_train)):\n",
    "    x = np.array(x_train[i])\n",
    "    y = y_train[i]\n",
    "    distance=np.sum((x-x_input)**2)\n",
    "    neighbours.append((distance, y))\n",
    "\n",
    "  neighbours.sort(key=lambda item: item[0])\n",
    "  array_neighbours=np.array(neighbours)\n",
    "  k_neighbours=array_neighbours[0:k, 1]\n",
    "  \n",
    "  classes,counts=np.unique(k_neighbours, return_counts=True)\n",
    "  return int(classes[np.argmax(counts)])\n",
    "\n",
    "correct_count=0\n",
    "for i in range(0, len(x_test)):\n",
    "  result=knn_predict(x_test[i], 5)\n",
    "  if result == y_test[i]:\n",
    "    correct_count += 1\n",
    "\n",
    "print(correct_count, (correct_count/len(x_test))*100)"
   ]
  }
 ],
 "metadata": {
  "kernelspec": {
   "display_name": "ai",
   "language": "python",
   "name": "python3"
  },
  "language_info": {
   "codemirror_mode": {
    "name": "ipython",
    "version": 3
   },
   "file_extension": ".py",
   "mimetype": "text/x-python",
   "name": "python",
   "nbconvert_exporter": "python",
   "pygments_lexer": "ipython3",
   "version": "3.9.18"
  }
 },
 "nbformat": 4,
 "nbformat_minor": 2
}
